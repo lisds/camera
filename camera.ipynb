{
 "cells": [
  {
   "cell_type": "markdown",
   "id": "2507ac11",
   "metadata": {},
   "source": [
    "# Cameraman"
   ]
  },
  {
   "cell_type": "code",
   "execution_count": null,
   "id": "08702f5a",
   "metadata": {},
   "outputs": [],
   "source": [
    "import numpy as np  # the Python array package\n",
    "import pandas as pd\n",
    "pd.set_option('mode.copy_on_write', True)\n",
    "import matplotlib.pyplot as plt  # the Python plotting package"
   ]
  },
  {
   "cell_type": "markdown",
   "id": "35f3ff83",
   "metadata": {},
   "source": [
    "We are going to get an image from the data in a file.\n",
    "\n",
    "You might want to look at the file — [camera.txt](camera.txt)\n",
    "\n",
    "The `camera.txt` file contains the pixel values for a picture, and it’s your\n",
    "job to find what picture that is. The file contains a single floating point\n",
    "value per line. Here are the first four lines of the file:\n",
    "\n",
    "```\n",
    "0.7843\n",
    "0.7843\n",
    "0.7804\n",
    "0.7843\n",
    "```\n",
    "\n",
    "You will first need to read in the file as a list of floating point values.\n",
    "\n",
    "Pandas is a good tool for this.   But notice that, by default, Pandas will\n",
    "assume that the first line of the file is the name of the column — but this\n",
    "file has no column name."
   ]
  },
  {
   "cell_type": "code",
   "execution_count": null,
   "id": "30cda63c",
   "metadata": {},
   "outputs": [],
   "source": [
    "#- Load camera.txt as a data frame \"camera_df\".\n",
    "#- Be careful to load the first element correctly.\n",
    "#- Check the help for pd.read_csv to work out what to do.\n",
    "camera_df = ...\n",
    "# Show the result\n",
    "camera_df.head()"
   ]
  },
  {
   "cell_type": "code",
   "execution_count": null,
   "id": "a72692fd",
   "metadata": {},
   "outputs": [],
   "source": [
    "# Some tests\n",
    "# Length of the data frame should be divisible by 2.\n",
    "assert len(camera_df) % 2 == 0\n",
    "# There should be one column.\n",
    "assert camera_df.shape[1] == 1\n",
    "# We know the first few rows.\n",
    "assert np.all(camera_df.iloc[:4, 0] == [0.7843, 0.7843,  0.7804, 0.7843])"
   ]
  },
  {
   "cell_type": "markdown",
   "id": "cfba8b12",
   "metadata": {},
   "source": [
    "Convert the values in the only column in the `camera_df` data frame to an array\n",
    "`pixel_values`:"
   ]
  },
  {
   "cell_type": "code",
   "execution_count": null,
   "id": "c412cc4b",
   "metadata": {},
   "outputs": [],
   "source": [
    "pixel_values = ...\n",
    "# Show the first five values of the array.\n",
    "pixel_values[:5]"
   ]
  },
  {
   "cell_type": "markdown",
   "id": "36f9e44c",
   "metadata": {},
   "source": [
    "How many pixel values does this image contain? (Call this number `P`)."
   ]
  },
  {
   "cell_type": "code",
   "execution_count": null,
   "id": "d4e2e108",
   "metadata": {},
   "outputs": [],
   "source": [
    "#- What is P?\n",
    "P = ..."
   ]
  },
  {
   "cell_type": "markdown",
   "id": "35459e94",
   "metadata": {},
   "source": [
    "## Reshaping the image"
   ]
  },
  {
   "cell_type": "code",
   "execution_count": null,
   "id": "54f51c1e",
   "metadata": {},
   "outputs": [],
   "source": [
    "# Test your result\n",
    "assert 'P' in dir()  # Variable exists.\n",
    "assert P is not ...  # Variable updated from default.\n",
    "assert P == 262144"
   ]
  },
  {
   "cell_type": "markdown",
   "id": "26c6922e",
   "metadata": {},
   "source": [
    "The array that forms the image is two-dimensional (it has a number of rows\n",
    "`M` and a number of columns `N`). If we got the right number of pixel\n",
    "values then `M * N == P`. That is, `M` and `N` have to be *factors* of `P` (the\n",
    "number of pixel values).\n",
    "\n",
    "We don’t know what `M` and `N` are, we will have to guess. Given the\n",
    "number of pixel values, what would your guess be for `M` and `N`?\n",
    "\n",
    "**Hint**: think of common image sizes and shapes."
   ]
  },
  {
   "cell_type": "code",
   "execution_count": null,
   "id": "f3323632",
   "metadata": {},
   "outputs": [],
   "source": [
    "#- Guess M, N\n",
    "M = ..\n",
    "N = ..\n",
    "# Show M and N\n",
    "M, N"
   ]
  },
  {
   "cell_type": "code",
   "execution_count": null,
   "id": "1c824a0c",
   "metadata": {},
   "outputs": [],
   "source": [
    "# This just checks M*N - it doesn't check if M or N are correct!\n",
    "assert 'M' in dir()\n",
    "assert 'N' in dir()\n",
    "assert M != ...\n",
    "assert N != ...\n",
    "assert M * N == P"
   ]
  },
  {
   "cell_type": "markdown",
   "id": "a0c85635",
   "metadata": {},
   "source": [
    "Next we want to convert the list of pixel values to an array (that forms the\n",
    "image).\n",
    "\n",
    "Convert the `pixel_values` list to a pixel values array, and reshape it to\n",
    "your guess for the shape `(M, N)`."
   ]
  },
  {
   "cell_type": "code",
   "execution_count": null,
   "id": "8c70ea6a",
   "metadata": {},
   "outputs": [],
   "source": [
    "# Convert list to array and reshape\n",
    "# Before we start - the M and N values should be integers:\n",
    "M = int(M)\n",
    "N = int(N)\n",
    "#- Now convert pixel array to an array, and reshape.\n",
    "pixel_array = ...\n",
    "# Show the shape of the pixel_array\n",
    "pixel_array.shape"
   ]
  },
  {
   "cell_type": "markdown",
   "id": "e045922e",
   "metadata": {},
   "source": [
    "Show this as an image using matplotlib’s `plt` module:"
   ]
  },
  {
   "cell_type": "code",
   "execution_count": null,
   "id": "62cc8b1d",
   "metadata": {},
   "outputs": [],
   "source": [
    "# Run this cell.\n",
    "# Show image using plt module\n",
    "plt.imshow(pixel_array)"
   ]
  },
  {
   "cell_type": "markdown",
   "id": "aff18322",
   "metadata": {},
   "source": [
    "Is this the right shape already?\n",
    "\n",
    "If not — go back and try other values for `M` and `N`.\n",
    "\n",
    "If you get stuck, feel free to check [the solution](camera_solution.ipynb)."
   ]
  },
  {
   "cell_type": "markdown",
   "id": "2c06d6d4",
   "metadata": {},
   "source": [
    "## Right way up?\n",
    "\n",
    "Is the image the right way up, so the camera is pointing to the right of the screen?\n",
    "\n",
    "Modify the cell below, so the camera points to the right of the screen:"
   ]
  },
  {
   "cell_type": "code",
   "execution_count": null,
   "id": "de63c1f8",
   "metadata": {},
   "outputs": [],
   "source": [
    "plt.imshow(pixel_array)"
   ]
  },
  {
   "cell_type": "markdown",
   "id": "14ca7355",
   "metadata": {},
   "source": [
    "## The colors\n",
    "\n",
    "The colors are a little strange for a black and white photo (that is what this\n",
    "is).\n",
    "\n",
    "It would be better to display the image in black and white.\n",
    "\n",
    "Set the correct colormap in the plot command below.\n",
    "\n",
    "**Hint** — See the [Matplotlib colormap\n",
    "page](https://matplotlib.org/stable/tutorials/colors/colormaps.html).\n",
    "\n",
    "**Hint** – you can look for colormaps with `plt.cm.` and tab-completion, in IPython or a Jupyter notebook cell."
   ]
  },
  {
   "cell_type": "code",
   "execution_count": null,
   "id": "ef61bf64",
   "metadata": {},
   "outputs": [],
   "source": [
    "#- A nicer version of the original plot"
   ]
  },
  {
   "cell_type": "markdown",
   "id": "e59dbc89",
   "metadata": {},
   "source": [
    "Now let’s say we want to binarize this image at some threshold `T`, so the\n",
    "man’s coat and hair and the camera tripod are black (pixel value of 0) and most\n",
    "everything else is white (pixel value of 1). How would we choose a good\n",
    "threshold? One step might be to plot a line out of the array (image) to get an\n",
    "idea of the values on that line."
   ]
  },
  {
   "cell_type": "code",
   "execution_count": null,
   "id": "483ab822",
   "metadata": {},
   "outputs": [],
   "source": [
    "# A plot of the pixel position in x and the pixel value in y, for an image line.\n",
    "plt.plot(pixel_array.T[380])"
   ]
  },
  {
   "cell_type": "markdown",
   "id": "2aebf22c",
   "metadata": {},
   "source": [
    "Now you need to apply your threshold to the image to make a binary image where\n",
    "values less than the threshold are == 0 and greater than the threshold are `==\n",
    "1`. You might want to play with the threshold a little to get a good result."
   ]
  },
  {
   "cell_type": "code",
   "execution_count": null,
   "id": "e22b4634",
   "metadata": {},
   "outputs": [],
   "source": [
    "#- Apply threshold to make new binary image, and show binary image\n",
    "binary_array = ...\n",
    "# Show the result.\n",
    "plt.imshow(binary_array.T, cmap='gray')"
   ]
  },
  {
   "cell_type": "markdown",
   "id": "5eda75a7",
   "metadata": {},
   "source": [
    "For extra points - the camera guy's coat is dark, and you can't see the details\n",
    "of the folds and collar of the coat at the moment, because the range of values\n",
    "is too large to distinguish the different dark levels on his coat. Can you make\n",
    "a good picture to show the folds on his coat, and the collar? Hint: you might\n",
    "want to explore the `np.clip` function."
   ]
  },
  {
   "cell_type": "code",
   "execution_count": null,
   "id": "2763cf00",
   "metadata": {},
   "outputs": [],
   "source": [
    "#- Extra points - a good image of the folds of the man's coat."
   ]
  },
  {
   "cell_type": "markdown",
   "id": "4810df6d",
   "metadata": {},
   "source": [
    "## The solution\n",
    "\n",
    "Here is [the solution](camera_solution.ipynb)."
   ]
  }
 ],
 "metadata": {
  "jupytext": {
   "notebook_metadata_filter": "all,-language_info",
   "split_at_heading": true,
   "text_representation": {
    "extension": ".Rmd",
    "format_name": "rmarkdown",
    "format_version": "1.2",
    "jupytext_version": "1.15.2"
   }
  },
  "kernelspec": {
   "display_name": "Python 3 (ipykernel)",
   "language": "python",
   "name": "python3"
  }
 },
 "nbformat": 4,
 "nbformat_minor": 5
}
